{
 "cells": [
  {
   "cell_type": "code",
   "execution_count": 1,
   "metadata": {},
   "outputs": [
    {
     "name": "stdout",
     "output_type": "stream",
     "text": [
      "2010 Model Cultus Suzeki in Red color with maximum speed of 180 kmh\n",
      "\n",
      "2017 Model Mehran Suzeki in gunMetal color with maximum speed of 140 kmh\n",
      "\n",
      "2017 Model Mehran Suzeki in Blue color with maximum speed of 140 kmh\n",
      " with color Update\n",
      "2017 Model Coure Dhastiue in Silver color with maximum speed of 160 kmh\n",
      "\n",
      "2011 Model Porshee Porchee in Gray color with maximum speed of 200 kmh\n",
      "\n",
      "2011 Model Porshee Porchee in Gray color with maximum speed of 240 kmh\n",
      " with maximum speed Update\n",
      "2014 Model Ford Ford in Black color with maximum speed of 240 kmh\n",
      "\n",
      "2020 Model Ford Ford in Black color with maximum speed of 240 kmh\n",
      " with new model\n"
     ]
    }
   ],
   "source": [
    "class Car():\n",
    "    def __init__(self,model,color,name,brandName,maxspeed):\n",
    "        self.Model = model\n",
    "        self.Color = color\n",
    "        self.Name = name\n",
    "        self.Brandname = brandName\n",
    "        self.MaxSpeed = maxspeed\n",
    "    \n",
    "    def newColor(self,newColor):\n",
    "        self.Color = newColor\n",
    "        \n",
    "    def newMaxSpeed(self,newMaxSpeed):\n",
    "        self.MaxSpeed = newMaxSpeed\n",
    "        \n",
    "    def newModel(self,newModel):\n",
    "        self.Model = newModel\n",
    "    \n",
    "\n",
    "    \n",
    "car1 = Car(\"2010\",\"Red\",\"Cultus\",\"Suzeki\",\"180\")\n",
    "print(car1.Model,\"Model\",car1.Name,car1.Brandname,\"in\",car1.Color,\"color with maximum speed of\",car1.MaxSpeed,\"kmh\\n\")\n",
    "\n",
    "car2 = Car(\"2017\",\"gunMetal\",\"Mehran\",\"Suzeki\",\"140\")\n",
    "print(car2.Model,\"Model\",car2.Name,car2.Brandname,\"in\",car2.Color,\"color with maximum speed of\",car2.MaxSpeed,\"kmh\\n\")\n",
    "car2.newColor(\"Blue\")\n",
    "print(car2.Model,\"Model\",car2.Name,car2.Brandname,\"in\",car2.Color,\"color with maximum speed of\",car2.MaxSpeed,\\\n",
    "      \"kmh\\n with color Update\")\n",
    "\n",
    "\n",
    "car3 = Car(\"2017\",\"Silver\",\"Coure\",\"Dhastiue\",\"160\")\n",
    "print(car3.Model,\"Model\",car3.Name,car3.Brandname,\"in\",car3.Color,\"color with maximum speed of\",car3.MaxSpeed,\"kmh\\n\")\n",
    "\n",
    "car4 = Car(\"2011\",\"Gray\",\"Porshee\",\"Porchee\",\"200\")\n",
    "print(car4.Model,\"Model\",car4.Name,car4.Brandname,\"in\",car4.Color,\"color with maximum speed of\",car4.MaxSpeed,\"kmh\\n\")\n",
    "car4.newMaxSpeed(\"240\")\n",
    "print(car4.Model,\"Model\",car4.Name,car4.Brandname,\"in\",car4.Color,\"color with maximum speed of\",car4.MaxSpeed,\\\n",
    "      \"kmh\\n with maximum speed Update\")\n",
    "\n",
    "car5 = Car(\"2014\",\"Black\",\"Ford\",\"Ford\",\"240\")\n",
    "print(car5.Model,\"Model\",car5.Name,car5.Brandname,\"in\",car5.Color,\"color with maximum speed of\",car5.MaxSpeed,\"kmh\\n\")\n",
    "car5.newModel(\"2020\")\n",
    "print(car5.Model,\"Model\",car5.Name,car5.Brandname,\"in\",car5.Color,\"color with maximum speed of\",car5.MaxSpeed,\\\n",
    "      \"kmh\\n with new model\")\n",
    "\n",
    "    \n",
    "    \n",
    "    \n",
    "       \n"
   ]
  },
  {
   "cell_type": "code",
   "execution_count": null,
   "metadata": {},
   "outputs": [],
   "source": []
  }
 ],
 "metadata": {
  "kernelspec": {
   "display_name": "Python 3",
   "language": "python",
   "name": "python3"
  },
  "language_info": {
   "codemirror_mode": {
    "name": "ipython",
    "version": 3
   },
   "file_extension": ".py",
   "mimetype": "text/x-python",
   "name": "python",
   "nbconvert_exporter": "python",
   "pygments_lexer": "ipython3",
   "version": "3.7.4"
  }
 },
 "nbformat": 4,
 "nbformat_minor": 2
}
