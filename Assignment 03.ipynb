{
 "cells": [
  {
   "cell_type": "code",
   "execution_count": 1,
   "metadata": {},
   "outputs": [
    {
     "name": "stdout",
     "output_type": "stream",
     "text": [
      "Enter first number : 55\n",
      "Enter second number :33\n",
      "Enter operation to perform +,-,x,/, ^ :=> -\n",
      "Subtraction is:  22\n"
     ]
    }
   ],
   "source": [
    "'''Task 01'''\n",
    "num1 = int(input(\"Enter first number : \"))\n",
    "num2 = int(input(\"Enter second number :\"))\n",
    "\n",
    "operator = str(input(\"Enter operation to perform +,-,x,/, ^ :=> \"))\n",
    "if (operator == '+'):\n",
    "    print(\"Addition is: \",num1 + num2)\n",
    "elif operator == '-':\n",
    "    print(\"Subtraction is: \",num1 - num2)\n",
    "elif operator == 'x': \n",
    "    print(\"Multiplication is : \",num1 * num2)\n",
    "elif operator == '/':\n",
    "    print(\"Division is :\",num1 / num2)\n",
    "elif operator == '^':\n",
    "    print(\"Power is : \",num1 ** num2)\n",
    "else:\n",
    "    print(\"Invalid Operator\")"
   ]
  },
  {
   "cell_type": "code",
   "execution_count": 2,
   "metadata": {},
   "outputs": [
    {
     "ename": "NameError",
     "evalue": "name 'list_1' is not defined",
     "output_type": "error",
     "traceback": [
      "\u001b[1;31m---------------------------------------------------------------------------\u001b[0m",
      "\u001b[1;31mNameError\u001b[0m                                 Traceback (most recent call last)",
      "\u001b[1;32m<ipython-input-2-4a1678e5a6ee>\u001b[0m in \u001b[0;36m<module>\u001b[1;34m\u001b[0m\n\u001b[0;32m      1\u001b[0m \u001b[0mFamily\u001b[0m \u001b[1;33m=\u001b[0m \u001b[1;33m[\u001b[0m\u001b[1;34m'Preet'\u001b[0m\u001b[1;33m,\u001b[0m\u001b[1;34m'Vinod'\u001b[0m\u001b[1;33m,\u001b[0m\u001b[1;36m3\u001b[0m\u001b[1;33m,\u001b[0m\u001b[1;34m'Ashay'\u001b[0m\u001b[1;33m]\u001b[0m\u001b[1;33m\u001b[0m\u001b[1;33m\u001b[0m\u001b[0m\n\u001b[0;32m      2\u001b[0m \u001b[1;33m\u001b[0m\u001b[0m\n\u001b[1;32m----> 3\u001b[1;33m \u001b[1;32mfor\u001b[0m \u001b[0mi\u001b[0m \u001b[1;32min\u001b[0m \u001b[0mlist_1\u001b[0m\u001b[1;33m:\u001b[0m\u001b[1;33m\u001b[0m\u001b[1;33m\u001b[0m\u001b[0m\n\u001b[0m\u001b[0;32m      4\u001b[0m     \u001b[0mi\u001b[0m\u001b[1;33m.\u001b[0m\u001b[0misdigit\u001b[0m\u001b[1;33m(\u001b[0m\u001b[1;33m)\u001b[0m\u001b[1;33m\u001b[0m\u001b[1;33m\u001b[0m\u001b[0m\n\u001b[0;32m      5\u001b[0m     \u001b[0mprint\u001b[0m\u001b[1;33m(\u001b[0m\u001b[0mi\u001b[0m\u001b[1;33m)\u001b[0m\u001b[1;33m\u001b[0m\u001b[1;33m\u001b[0m\u001b[0m\n",
      "\u001b[1;31mNameError\u001b[0m: name 'list_1' is not defined"
     ]
    }
   ],
   "source": [
    "'''TAsk 2'''\n",
    "Family = ['Preet','Vinod',3,'Ashay']\n",
    "\n",
    "for i in list_1:\n",
    "    i.isdigit()\n",
    "    print(i)"
   ]
  },
  {
   "cell_type": "code",
   "execution_count": 10,
   "metadata": {},
   "outputs": [
    {
     "name": "stdout",
     "output_type": "stream",
     "text": [
      "Monday\n",
      "{'Mon': 'Monday', 'Tue': 'Tuesday', 'Wed': 'Wednesday', 'Thu': 'Thursday', 'Friday': 'Fri'}\n"
     ]
    }
   ],
   "source": [
    "'''Task 03'''\n",
    "week = {\n",
    "    'Mon':'Monday',\n",
    "    'Tue':'Tuesday',\n",
    "    'Wed':'Wednesday',\n",
    "    'Thu':'Thursday'\n",
    "}\n",
    "print(week['Mon'])\n",
    "week.update({'Friday':'Fri'})\n",
    "print(week)"
   ]
  },
  {
   "cell_type": "code",
   "execution_count": 11,
   "metadata": {},
   "outputs": [
    {
     "name": "stdout",
     "output_type": "stream",
     "text": [
      "622\n"
     ]
    }
   ],
   "source": [
    "'''Task 04'''\n",
    "dict_sum = {\n",
    "    1: 54,\n",
    "    2: 69,\n",
    "    3: 495,\n",
    "    4: 4\n",
    "}\n",
    "summ = 0\n",
    "for i in dict_sum:\n",
    "    summ = summ + dict_sum[i]\n",
    "print(summ)"
   ]
  },
  {
   "cell_type": "code",
   "execution_count": 12,
   "metadata": {},
   "outputs": [
    {
     "name": "stdout",
     "output_type": "stream",
     "text": [
      "1 is a duplicate\n",
      "4 is a duplicate\n",
      "5 is a duplicate\n"
     ]
    }
   ],
   "source": [
    "''' Task 05'''\n",
    "duplicate_list = [4, 1, 8, 4, 5, 5, 1]\n",
    "\n",
    "duplicate_list.sort()\n",
    "for i in range(0,len(duplicate_list)-1):\n",
    "    if duplicate_list[i] == duplicate_list[i+1]:\n",
    "        print (str(duplicate_list[i]) + ' is a duplicate')"
   ]
  },
  {
   "cell_type": "code",
   "execution_count": 13,
   "metadata": {},
   "outputs": [
    {
     "name": "stdout",
     "output_type": "stream",
     "text": [
      "Enter the key to check: 9\n",
      "Key is not present in the dictionary\n"
     ]
    }
   ],
   "source": [
    "'''Task 06'''\n",
    "key_dip = {\n",
    "    1: \"Monday\",\n",
    "    2: \"Tuesday\",\n",
    "    3: \"Wednesday\",\n",
    "    4: \"Thursday\",\n",
    "    5: \"Friday\",\n",
    "    6: \"Saturday\",\n",
    "    7: \"Sunday\"\n",
    "}\n",
    "\n",
    "key = int(input(\"Enter the key to check: \"))\n",
    "if key in key_dip:\n",
    "    print(\"Key is already present\")\n",
    "else:\n",
    "    print(\"Key is not present in the dictionary\")"
   ]
  },
  {
   "cell_type": "code",
   "execution_count": null,
   "metadata": {},
   "outputs": [],
   "source": []
  }
 ],
 "metadata": {
  "kernelspec": {
   "display_name": "Python 3",
   "language": "python",
   "name": "python3"
  },
  "language_info": {
   "codemirror_mode": {
    "name": "ipython",
    "version": 3
   },
   "file_extension": ".py",
   "mimetype": "text/x-python",
   "name": "python",
   "nbconvert_exporter": "python",
   "pygments_lexer": "ipython3",
   "version": "3.7.4"
  }
 },
 "nbformat": 4,
 "nbformat_minor": 2
}
