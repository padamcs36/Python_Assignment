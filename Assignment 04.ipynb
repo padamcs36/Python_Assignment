{
 "cells": [
  {
   "cell_type": "code",
   "execution_count": 5,
   "metadata": {},
   "outputs": [
    {
     "name": "stdout",
     "output_type": "stream",
     "text": [
      "{'first_name': 'Preet', 'last_name': 'Kumar', 'age': 20, 'city': 'Hyderabad'}\n"
     ]
    }
   ],
   "source": [
    "'''Task 01'''\n",
    "biodata = {\n",
    "    'first_name': 'Preet',\n",
    "    'last_name': 'Kumar',\n",
    "    'age' : 20,\n",
    "    'city': 'Hyderabad'\n",
    "}\n",
    "biodata['qualification'] = 'High Acdaic level'\n",
    "del biodata['qualification']\n",
    "print(biodata)"
   ]
  },
  {
   "cell_type": "code",
   "execution_count": 10,
   "metadata": {},
   "outputs": [
    {
     "name": "stdout",
     "output_type": "stream",
     "text": [
      "{'Hyderabad': {'country': 'Pakistan', 'population': 1815000, 'fact': 'oldest city'}, 'Mumbai': {'country': 'India', 'population': 1814000, 'fact': '2nd bigest city'}, 'karachi': {'country': 'Pakistan', 'population': 54850654, 'fact': 'bigest City'}}\n"
     ]
    }
   ],
   "source": [
    "'''Task 02'''\n",
    "cities = {\n",
    "    'Hyderabad':{\n",
    "        'country': 'Pakistan',\n",
    "        'population': 1815000,\n",
    "        'fact': 'oldest city'\n",
    "    },\n",
    "    'Mumbai':{\n",
    "        'country': 'India',\n",
    "        'population': 1814000,\n",
    "        'fact': '2nd bigest city'\n",
    "    },\n",
    "    'karachi':{\n",
    "        'country': 'Pakistan',\n",
    "        'population': 54850654,\n",
    "        'fact': 'bigest City'\n",
    "    }\n",
    "}\n",
    "print(cities)"
   ]
  },
  {
   "cell_type": "code",
   "execution_count": null,
   "metadata": {},
   "outputs": [],
   "source": []
  },
  {
   "cell_type": "code",
   "execution_count": 42,
   "metadata": {},
   "outputs": [
    {
     "name": "stdout",
     "output_type": "stream",
     "text": [
      "Tell your age :56\n",
      "Please pay $15  for ticket\n"
     ]
    }
   ],
   "source": [
    "\n",
    "quit = True\n",
    "while(quit != False):\n",
    "    age = int(input(\"Tell your age :\"))\n",
    "    if age < 3:\n",
    "        print(\"Ticket is free for you.\")\n",
    "    elif age >= 3 and age < 12:\n",
    "        print(\"Please pay $10 for ticket.\")\n",
    "    elif age > 12:\n",
    "        print(\"Please pay $15  for ticket\")\n",
    "    quit = False"
   ]
  },
  {
   "cell_type": "code",
   "execution_count": 40,
   "metadata": {},
   "outputs": [
    {
     "name": "stdout",
     "output_type": "stream",
     "text": [
      "one of my favorite book isyou  will find me\n"
     ]
    }
   ],
   "source": [
    "'''Task 04'''\n",
    "def favorite_book(title):\n",
    "    print(\"one of my favorite book is: \" + title)\n",
    "favorite_book('you  will find me')"
   ]
  },
  {
   "cell_type": "code",
   "execution_count": 44,
   "metadata": {},
   "outputs": [
    {
     "name": "stdout",
     "output_type": "stream",
     "text": [
      "Guess Your Secret Number.6\n",
      "You guess smaller than the secret number, Try again\n",
      "Guess Your Secret Number.9\n",
      "You guess smaller than the secret number, Try again\n",
      "Guess Your Secret Number.22\n",
      "You guess smaller than the secret number, Try again\n",
      "You Lost all the chances.\n"
     ]
    }
   ],
   "source": [
    "import random\n",
    "for x in range(1):\n",
    "    answer = random.randint(1,30)\n",
    "cond = True\n",
    "chances = 0\n",
    "\n",
    "while(cond !=  False):\n",
    "    if chances == 3:\n",
    "        print(\"You Lost all the chances.\")\n",
    "        break\n",
    "    guess_number = int(input(\"Guess Your Secret Number.\"))\n",
    "    if guess_number == answer:\n",
    "        print(\"You won the Game.\")\n",
    "    elif guess_number > answer:\n",
    "        print(\"You guess larger than the secret number,Try again\")\n",
    "    else:\n",
    "        print(\"You guess smaller than the secret number, Try again\")\n",
    "    check_cond = True\n",
    "    chances += 1"
   ]
  },
  {
   "cell_type": "code",
   "execution_count": null,
   "metadata": {},
   "outputs": [],
   "source": []
  }
 ],
 "metadata": {
  "kernelspec": {
   "display_name": "Python 3",
   "language": "python",
   "name": "python3"
  },
  "language_info": {
   "codemirror_mode": {
    "name": "ipython",
    "version": 3
   },
   "file_extension": ".py",
   "mimetype": "text/x-python",
   "name": "python",
   "nbconvert_exporter": "python",
   "pygments_lexer": "ipython3",
   "version": "3.7.4"
  }
 },
 "nbformat": 4,
 "nbformat_minor": 2
}
