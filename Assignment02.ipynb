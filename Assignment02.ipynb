{
 "cells": [
  {
   "cell_type": "code",
   "execution_count": 10,
   "metadata": {},
   "outputs": [
    {
     "name": "stdout",
     "output_type": "stream",
     "text": [
      "Enter makrs of Subject 1: 76\n",
      "Enter makrs of Subject 2: 78\n",
      "Enter makrs of Subject 3: 76\n",
      "Enter makrs of Subject 4: 76\n",
      "Enter makrs of Subject 5: 78\n",
      "B Grade\n"
     ]
    }
   ],
   "source": [
    "sub1 = int(input(\"Enter makrs of Subject 1: \"))\n",
    "sub2 = int(input(\"Enter makrs of Subject 2: \"))\n",
    "sub3 = int(input(\"Enter makrs of Subject 3: \"))\n",
    "sub4 = int(input(\"Enter makrs of Subject 4: \"))\n",
    "sub5 = int(input(\"Enter makrs of Subject 5: \"))\n",
    "\n",
    "total_marks = (sub1 + sub2 + sub3 + sub4 + sub5)/5\n",
    "if total_marks >= 90:\n",
    "    print(\"A1 Grade\")\n",
    "elif total_marks >= 85 and total_marks <90:\n",
    "    print(\"A Grade\")\n",
    "elif total_marks >= 80 and total_marks <85:\n",
    "    print(\"B+ Grade\")\n",
    "elif total_marks >= 75 and total_marks <80:\n",
    "    print(\"B Grade\")\n",
    "else:\n",
    "    print(\"Fail\")\n",
    "\n"
   ]
  },
  {
   "cell_type": "markdown",
   "metadata": {},
   "source": [
    "### "
   ]
  },
  {
   "cell_type": "code",
   "execution_count": 15,
   "metadata": {},
   "outputs": [
    {
     "name": "stdout",
     "output_type": "stream",
     "text": [
      "Enter any number: 1\n",
      "Odd\n"
     ]
    }
   ],
   "source": [
    "num = int(input(\"Enter any number: \"))\n",
    "if num%2 == 0:\n",
    "    print(\"Even\")\n",
    "else:\n",
    "    print(\"Odd\")"
   ]
  },
  {
   "cell_type": "code",
   "execution_count": 16,
   "metadata": {},
   "outputs": [
    {
     "name": "stdout",
     "output_type": "stream",
     "text": [
      "3\n"
     ]
    }
   ],
   "source": [
    "str = [\"1\",\"2\",\"3\"]\n",
    "print(len(str))"
   ]
  },
  {
   "cell_type": "code",
   "execution_count": 23,
   "metadata": {},
   "outputs": [
    {
     "name": "stdout",
     "output_type": "stream",
     "text": [
      "6\n"
     ]
    }
   ],
   "source": [
    "str = [1,2,3]\n",
    "sum = 0\n",
    "for i in str:\n",
    "    sum += i\n",
    "print(sum)"
   ]
  },
  {
   "cell_type": "code",
   "execution_count": 29,
   "metadata": {},
   "outputs": [
    {
     "data": {
      "text/plain": [
       "75"
      ]
     },
     "execution_count": 29,
     "metadata": {},
     "output_type": "execute_result"
    }
   ],
   "source": [
    "nu = [3,5,7,4,6,75,8]\n",
    "nu.sort(key = None, reverse = True)\n",
    "nu.pop(0)"
   ]
  },
  {
   "cell_type": "code",
   "execution_count": 33,
   "metadata": {},
   "outputs": [
    {
     "name": "stdout",
     "output_type": "stream",
     "text": [
      "3\n",
      "4\n",
      "3\n",
      "4\n",
      "3\n"
     ]
    }
   ],
   "source": [
    "nu = [3,5,7,4,6,75,8,5,3,7,4,3]\n",
    "for i in nu:\n",
    "    if i < 5:\n",
    "        print(i)"
   ]
  },
  {
   "cell_type": "code",
   "execution_count": null,
   "metadata": {},
   "outputs": [],
   "source": []
  }
 ],
 "metadata": {
  "kernelspec": {
   "display_name": "Python 3",
   "language": "python",
   "name": "python3"
  },
  "language_info": {
   "codemirror_mode": {
    "name": "ipython",
    "version": 3
   },
   "file_extension": ".py",
   "mimetype": "text/x-python",
   "name": "python",
   "nbconvert_exporter": "python",
   "pygments_lexer": "ipython3",
   "version": "3.7.4"
  }
 },
 "nbformat": 4,
 "nbformat_minor": 2
}
